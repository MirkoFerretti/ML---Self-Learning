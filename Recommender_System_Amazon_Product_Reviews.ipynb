{
  "nbformat": 4,
  "nbformat_minor": 0,
  "metadata": {
    "colab": {
      "provenance": []
    },
    "kernelspec": {
      "name": "python3",
      "display_name": "Python 3"
    },
    "language_info": {
      "name": "python"
    }
  },
  "cells": [
    {
      "cell_type": "markdown",
      "source": [
        "# Recommender System based on Amazon Product Reviews\n"
      ],
      "metadata": {
        "id": "iYKATWFQKX05"
      }
    },
    {
      "cell_type": "markdown",
      "source": [
        "I am going to build a recommender system that suggests products to users based on their past ratings.\n",
        "The dataset I will be using can be found at https://www.kaggle.com/datasets/saurav9786/amazon-product-reviews and it was uploaded by the user 'Saurav Anand'.\n",
        "The dataset contains 7.82 million data points, and 4 attributes:\n",
        "* __userId__ : Every user identified with a unique id;\n",
        "* __productId__ : Every product identified with a unique id;\n",
        "* __Rating__ : Rating of the corresponding product by the corresponding user;\n",
        "* __timestamp__ : Time of the rating.\n",
        "\n",
        "I want to highlight the fact that this notebook was created purely for my own learning, so the methods used might not be the best. The recommender system itself is very simple and rudimentary, just to get learn a few things about recommender systems in general.\n",
        "\n",
        "I will keep reading about recommender systems as there still is much I don't know; in the future I might create a much better and more complex version of a recommender system."
      ],
      "metadata": {
        "id": "jPlerIxOSF9T"
      }
    },
    {
      "cell_type": "markdown",
      "source": [
        "I have loaded the .csv file on my Google Drive so, firstly, I am going to directly read the file from my drive."
      ],
      "metadata": {
        "id": "dWOMaEdsS2J6"
      }
    },
    {
      "cell_type": "code",
      "source": [
        "import pandas as pd\n",
        "from google.colab import drive\n",
        "\n",
        "drive.mount('/content/drive')\n",
        "\n",
        "column_names = ['user_id', 'product_id', 'rating', 'timestamp']\n",
        "\n",
        "file_path = '/content/drive/My Drive/ratings_Electronics.csv'\n",
        "\n",
        "df = pd.read_csv(file_path, names=column_names)\n",
        "\n",
        "print(df.head())"
      ],
      "metadata": {
        "colab": {
          "base_uri": "https://localhost:8080/"
        },
        "id": "A-oRvgbkKhrd",
        "outputId": "2806d531-63f9-4514-c0de-0651e6947bbe"
      },
      "execution_count": null,
      "outputs": [
        {
          "output_type": "stream",
          "name": "stdout",
          "text": [
            "Drive already mounted at /content/drive; to attempt to forcibly remount, call drive.mount(\"/content/drive\", force_remount=True).\n",
            "          user_id  product_id  rating   timestamp\n",
            "0   AKM1MP6P0OYPR  0132793040     5.0  1365811200\n",
            "1  A2CX7LUOHB2NDG  0321732944     5.0  1341100800\n",
            "2  A2NWSAGRHCP8N5  0439886341     1.0  1367193600\n",
            "3  A2WNBOD3WNDNKT  0439886341     3.0  1374451200\n",
            "4  A1GI0U4ZRJA8WN  0439886341     1.0  1334707200\n"
          ]
        }
      ]
    },
    {
      "cell_type": "markdown",
      "source": [
        "From the description of the dataset found on Kaggle I already know that there are no missing values, but I will check anyways, just to make sure."
      ],
      "metadata": {
        "id": "TwzVnYswTB2C"
      }
    },
    {
      "cell_type": "code",
      "source": [
        "print(df.isnull().sum())"
      ],
      "metadata": {
        "colab": {
          "base_uri": "https://localhost:8080/"
        },
        "id": "l-LM-MRBLF2r",
        "outputId": "f4f87649-6ca2-4077-ea33-d50e4ad42a32"
      },
      "execution_count": null,
      "outputs": [
        {
          "output_type": "stream",
          "name": "stdout",
          "text": [
            "user_id       0\n",
            "product_id    0\n",
            "rating        0\n",
            "timestamp     0\n",
            "dtype: int64\n"
          ]
        }
      ]
    },
    {
      "cell_type": "markdown",
      "source": [
        "I am going to use the '.to_datetime' function to convert the 'timestamp' attribute and ensure a consistent format for our dates. I won't really need it, but it's usually better for performing data arithmetic and performing other tasks related to dates. *testo in corsivo*"
      ],
      "metadata": {
        "id": "LvGEdpb6UkNp"
      }
    },
    {
      "cell_type": "code",
      "source": [
        "df['timestamp'] = pd.to_datetime(df['timestamp'], unit='s')\n",
        "df.head()"
      ],
      "metadata": {
        "colab": {
          "base_uri": "https://localhost:8080/",
          "height": 206
        },
        "id": "pG0QmKlSLLCG",
        "outputId": "c33bfbf7-0ad4-489b-8df6-a9f15cde27da"
      },
      "execution_count": null,
      "outputs": [
        {
          "output_type": "execute_result",
          "data": {
            "text/plain": [
              "          user_id  product_id  rating  timestamp\n",
              "0   AKM1MP6P0OYPR  0132793040     5.0 2013-04-13\n",
              "1  A2CX7LUOHB2NDG  0321732944     5.0 2012-07-01\n",
              "2  A2NWSAGRHCP8N5  0439886341     1.0 2013-04-29\n",
              "3  A2WNBOD3WNDNKT  0439886341     3.0 2013-07-22\n",
              "4  A1GI0U4ZRJA8WN  0439886341     1.0 2012-04-18"
            ],
            "text/html": [
              "\n",
              "  <div id=\"df-7cad428e-31ea-4ab9-9b1b-6031d7888d86\" class=\"colab-df-container\">\n",
              "    <div>\n",
              "<style scoped>\n",
              "    .dataframe tbody tr th:only-of-type {\n",
              "        vertical-align: middle;\n",
              "    }\n",
              "\n",
              "    .dataframe tbody tr th {\n",
              "        vertical-align: top;\n",
              "    }\n",
              "\n",
              "    .dataframe thead th {\n",
              "        text-align: right;\n",
              "    }\n",
              "</style>\n",
              "<table border=\"1\" class=\"dataframe\">\n",
              "  <thead>\n",
              "    <tr style=\"text-align: right;\">\n",
              "      <th></th>\n",
              "      <th>user_id</th>\n",
              "      <th>product_id</th>\n",
              "      <th>rating</th>\n",
              "      <th>timestamp</th>\n",
              "    </tr>\n",
              "  </thead>\n",
              "  <tbody>\n",
              "    <tr>\n",
              "      <th>0</th>\n",
              "      <td>AKM1MP6P0OYPR</td>\n",
              "      <td>0132793040</td>\n",
              "      <td>5.0</td>\n",
              "      <td>2013-04-13</td>\n",
              "    </tr>\n",
              "    <tr>\n",
              "      <th>1</th>\n",
              "      <td>A2CX7LUOHB2NDG</td>\n",
              "      <td>0321732944</td>\n",
              "      <td>5.0</td>\n",
              "      <td>2012-07-01</td>\n",
              "    </tr>\n",
              "    <tr>\n",
              "      <th>2</th>\n",
              "      <td>A2NWSAGRHCP8N5</td>\n",
              "      <td>0439886341</td>\n",
              "      <td>1.0</td>\n",
              "      <td>2013-04-29</td>\n",
              "    </tr>\n",
              "    <tr>\n",
              "      <th>3</th>\n",
              "      <td>A2WNBOD3WNDNKT</td>\n",
              "      <td>0439886341</td>\n",
              "      <td>3.0</td>\n",
              "      <td>2013-07-22</td>\n",
              "    </tr>\n",
              "    <tr>\n",
              "      <th>4</th>\n",
              "      <td>A1GI0U4ZRJA8WN</td>\n",
              "      <td>0439886341</td>\n",
              "      <td>1.0</td>\n",
              "      <td>2012-04-18</td>\n",
              "    </tr>\n",
              "  </tbody>\n",
              "</table>\n",
              "</div>\n",
              "    <div class=\"colab-df-buttons\">\n",
              "\n",
              "  <div class=\"colab-df-container\">\n",
              "    <button class=\"colab-df-convert\" onclick=\"convertToInteractive('df-7cad428e-31ea-4ab9-9b1b-6031d7888d86')\"\n",
              "            title=\"Convert this dataframe to an interactive table.\"\n",
              "            style=\"display:none;\">\n",
              "\n",
              "  <svg xmlns=\"http://www.w3.org/2000/svg\" height=\"24px\" viewBox=\"0 -960 960 960\">\n",
              "    <path d=\"M120-120v-720h720v720H120Zm60-500h600v-160H180v160Zm220 220h160v-160H400v160Zm0 220h160v-160H400v160ZM180-400h160v-160H180v160Zm440 0h160v-160H620v160ZM180-180h160v-160H180v160Zm440 0h160v-160H620v160Z\"/>\n",
              "  </svg>\n",
              "    </button>\n",
              "\n",
              "  <style>\n",
              "    .colab-df-container {\n",
              "      display:flex;\n",
              "      gap: 12px;\n",
              "    }\n",
              "\n",
              "    .colab-df-convert {\n",
              "      background-color: #E8F0FE;\n",
              "      border: none;\n",
              "      border-radius: 50%;\n",
              "      cursor: pointer;\n",
              "      display: none;\n",
              "      fill: #1967D2;\n",
              "      height: 32px;\n",
              "      padding: 0 0 0 0;\n",
              "      width: 32px;\n",
              "    }\n",
              "\n",
              "    .colab-df-convert:hover {\n",
              "      background-color: #E2EBFA;\n",
              "      box-shadow: 0px 1px 2px rgba(60, 64, 67, 0.3), 0px 1px 3px 1px rgba(60, 64, 67, 0.15);\n",
              "      fill: #174EA6;\n",
              "    }\n",
              "\n",
              "    .colab-df-buttons div {\n",
              "      margin-bottom: 4px;\n",
              "    }\n",
              "\n",
              "    [theme=dark] .colab-df-convert {\n",
              "      background-color: #3B4455;\n",
              "      fill: #D2E3FC;\n",
              "    }\n",
              "\n",
              "    [theme=dark] .colab-df-convert:hover {\n",
              "      background-color: #434B5C;\n",
              "      box-shadow: 0px 1px 3px 1px rgba(0, 0, 0, 0.15);\n",
              "      filter: drop-shadow(0px 1px 2px rgba(0, 0, 0, 0.3));\n",
              "      fill: #FFFFFF;\n",
              "    }\n",
              "  </style>\n",
              "\n",
              "    <script>\n",
              "      const buttonEl =\n",
              "        document.querySelector('#df-7cad428e-31ea-4ab9-9b1b-6031d7888d86 button.colab-df-convert');\n",
              "      buttonEl.style.display =\n",
              "        google.colab.kernel.accessAllowed ? 'block' : 'none';\n",
              "\n",
              "      async function convertToInteractive(key) {\n",
              "        const element = document.querySelector('#df-7cad428e-31ea-4ab9-9b1b-6031d7888d86');\n",
              "        const dataTable =\n",
              "          await google.colab.kernel.invokeFunction('convertToInteractive',\n",
              "                                                    [key], {});\n",
              "        if (!dataTable) return;\n",
              "\n",
              "        const docLinkHtml = 'Like what you see? Visit the ' +\n",
              "          '<a target=\"_blank\" href=https://colab.research.google.com/notebooks/data_table.ipynb>data table notebook</a>'\n",
              "          + ' to learn more about interactive tables.';\n",
              "        element.innerHTML = '';\n",
              "        dataTable['output_type'] = 'display_data';\n",
              "        await google.colab.output.renderOutput(dataTable, element);\n",
              "        const docLink = document.createElement('div');\n",
              "        docLink.innerHTML = docLinkHtml;\n",
              "        element.appendChild(docLink);\n",
              "      }\n",
              "    </script>\n",
              "  </div>\n",
              "\n",
              "\n",
              "<div id=\"df-b34fdb90-54bb-47f4-b854-60b25e3ea3e0\">\n",
              "  <button class=\"colab-df-quickchart\" onclick=\"quickchart('df-b34fdb90-54bb-47f4-b854-60b25e3ea3e0')\"\n",
              "            title=\"Suggest charts\"\n",
              "            style=\"display:none;\">\n",
              "\n",
              "<svg xmlns=\"http://www.w3.org/2000/svg\" height=\"24px\"viewBox=\"0 0 24 24\"\n",
              "     width=\"24px\">\n",
              "    <g>\n",
              "        <path d=\"M19 3H5c-1.1 0-2 .9-2 2v14c0 1.1.9 2 2 2h14c1.1 0 2-.9 2-2V5c0-1.1-.9-2-2-2zM9 17H7v-7h2v7zm4 0h-2V7h2v10zm4 0h-2v-4h2v4z\"/>\n",
              "    </g>\n",
              "</svg>\n",
              "  </button>\n",
              "\n",
              "<style>\n",
              "  .colab-df-quickchart {\n",
              "      --bg-color: #E8F0FE;\n",
              "      --fill-color: #1967D2;\n",
              "      --hover-bg-color: #E2EBFA;\n",
              "      --hover-fill-color: #174EA6;\n",
              "      --disabled-fill-color: #AAA;\n",
              "      --disabled-bg-color: #DDD;\n",
              "  }\n",
              "\n",
              "  [theme=dark] .colab-df-quickchart {\n",
              "      --bg-color: #3B4455;\n",
              "      --fill-color: #D2E3FC;\n",
              "      --hover-bg-color: #434B5C;\n",
              "      --hover-fill-color: #FFFFFF;\n",
              "      --disabled-bg-color: #3B4455;\n",
              "      --disabled-fill-color: #666;\n",
              "  }\n",
              "\n",
              "  .colab-df-quickchart {\n",
              "    background-color: var(--bg-color);\n",
              "    border: none;\n",
              "    border-radius: 50%;\n",
              "    cursor: pointer;\n",
              "    display: none;\n",
              "    fill: var(--fill-color);\n",
              "    height: 32px;\n",
              "    padding: 0;\n",
              "    width: 32px;\n",
              "  }\n",
              "\n",
              "  .colab-df-quickchart:hover {\n",
              "    background-color: var(--hover-bg-color);\n",
              "    box-shadow: 0 1px 2px rgba(60, 64, 67, 0.3), 0 1px 3px 1px rgba(60, 64, 67, 0.15);\n",
              "    fill: var(--button-hover-fill-color);\n",
              "  }\n",
              "\n",
              "  .colab-df-quickchart-complete:disabled,\n",
              "  .colab-df-quickchart-complete:disabled:hover {\n",
              "    background-color: var(--disabled-bg-color);\n",
              "    fill: var(--disabled-fill-color);\n",
              "    box-shadow: none;\n",
              "  }\n",
              "\n",
              "  .colab-df-spinner {\n",
              "    border: 2px solid var(--fill-color);\n",
              "    border-color: transparent;\n",
              "    border-bottom-color: var(--fill-color);\n",
              "    animation:\n",
              "      spin 1s steps(1) infinite;\n",
              "  }\n",
              "\n",
              "  @keyframes spin {\n",
              "    0% {\n",
              "      border-color: transparent;\n",
              "      border-bottom-color: var(--fill-color);\n",
              "      border-left-color: var(--fill-color);\n",
              "    }\n",
              "    20% {\n",
              "      border-color: transparent;\n",
              "      border-left-color: var(--fill-color);\n",
              "      border-top-color: var(--fill-color);\n",
              "    }\n",
              "    30% {\n",
              "      border-color: transparent;\n",
              "      border-left-color: var(--fill-color);\n",
              "      border-top-color: var(--fill-color);\n",
              "      border-right-color: var(--fill-color);\n",
              "    }\n",
              "    40% {\n",
              "      border-color: transparent;\n",
              "      border-right-color: var(--fill-color);\n",
              "      border-top-color: var(--fill-color);\n",
              "    }\n",
              "    60% {\n",
              "      border-color: transparent;\n",
              "      border-right-color: var(--fill-color);\n",
              "    }\n",
              "    80% {\n",
              "      border-color: transparent;\n",
              "      border-right-color: var(--fill-color);\n",
              "      border-bottom-color: var(--fill-color);\n",
              "    }\n",
              "    90% {\n",
              "      border-color: transparent;\n",
              "      border-bottom-color: var(--fill-color);\n",
              "    }\n",
              "  }\n",
              "</style>\n",
              "\n",
              "  <script>\n",
              "    async function quickchart(key) {\n",
              "      const quickchartButtonEl =\n",
              "        document.querySelector('#' + key + ' button');\n",
              "      quickchartButtonEl.disabled = true;  // To prevent multiple clicks.\n",
              "      quickchartButtonEl.classList.add('colab-df-spinner');\n",
              "      try {\n",
              "        const charts = await google.colab.kernel.invokeFunction(\n",
              "            'suggestCharts', [key], {});\n",
              "      } catch (error) {\n",
              "        console.error('Error during call to suggestCharts:', error);\n",
              "      }\n",
              "      quickchartButtonEl.classList.remove('colab-df-spinner');\n",
              "      quickchartButtonEl.classList.add('colab-df-quickchart-complete');\n",
              "    }\n",
              "    (() => {\n",
              "      let quickchartButtonEl =\n",
              "        document.querySelector('#df-b34fdb90-54bb-47f4-b854-60b25e3ea3e0 button');\n",
              "      quickchartButtonEl.style.display =\n",
              "        google.colab.kernel.accessAllowed ? 'block' : 'none';\n",
              "    })();\n",
              "  </script>\n",
              "</div>\n",
              "    </div>\n",
              "  </div>\n"
            ],
            "application/vnd.google.colaboratory.intrinsic+json": {
              "type": "dataframe",
              "variable_name": "df"
            }
          },
          "metadata": {},
          "execution_count": 3
        }
      ]
    },
    {
      "cell_type": "markdown",
      "source": [
        "Here I am going to get rid of smaller counts of 'user_id' and 'product_id'. This is done for a few reasons. Firstly, I am trying to build a recommender system, so it will be rather useful to have a few observations for each user/product to base my recommendations on. Also, I don't have the resources for building a model with millions of data points, so this will thin out the observations in our dataset."
      ],
      "metadata": {
        "id": "JZl3WUcNVM-y"
      }
    },
    {
      "cell_type": "code",
      "source": [
        "user_counts = df['user_id'].value_counts()\n",
        "product_counts = df['product_id'].value_counts()\n",
        "\n",
        "df = df[df['user_id'].isin(user_counts[user_counts >= 5].index)]\n",
        "df = df[df['product_id'].isin(product_counts[product_counts >= 5].index)]"
      ],
      "metadata": {
        "id": "Pu4kftc8LoK1"
      },
      "execution_count": null,
      "outputs": []
    },
    {
      "cell_type": "markdown",
      "source": [
        "We no longer have 7.82 millions of observations, as we are down to just over 2 million. This is still too much for the simple recommender system I am going to create, as I will also need some memory for computing sparse matrices, so I will sample 1% of the observations to construct this simple model."
      ],
      "metadata": {
        "id": "7269icgYVtPc"
      }
    },
    {
      "cell_type": "code",
      "source": [
        "df.shape"
      ],
      "metadata": {
        "colab": {
          "base_uri": "https://localhost:8080/"
        },
        "id": "OzPpZ9cJLcWb",
        "outputId": "b84a2105-80c8-4e0d-a9aa-2a5041162dc6"
      },
      "execution_count": null,
      "outputs": [
        {
          "output_type": "execute_result",
          "data": {
            "text/plain": [
              "(2109869, 4)"
            ]
          },
          "metadata": {},
          "execution_count": 5
        }
      ]
    },
    {
      "cell_type": "code",
      "source": [
        "df_sampled = df.sample(frac=0.01, random_state=42)\n",
        "df_sampled.shape"
      ],
      "metadata": {
        "colab": {
          "base_uri": "https://localhost:8080/"
        },
        "id": "TmrwcsZcMnPz",
        "outputId": "77970fb8-9a24-4112-dbcd-1b2114c8f9ce"
      },
      "execution_count": null,
      "outputs": [
        {
          "output_type": "execute_result",
          "data": {
            "text/plain": [
              "(21099, 4)"
            ]
          },
          "metadata": {},
          "execution_count": 6
        }
      ]
    },
    {
      "cell_type": "markdown",
      "source": [
        "I will be converting the data types of the first 3 attributes to 'optimize' for memory purposes. 'float32' will be used instead of 'float64' to reduce the memory footprint by half. You could technically improve this even further by converting the 'timestamp' attribute to 'int64', but I won't be doing that here."
      ],
      "metadata": {
        "id": "TnSj1Ov0XCEM"
      }
    },
    {
      "cell_type": "code",
      "source": [
        "df_sampled['user_id'] = df['user_id'].astype('category')\n",
        "df_sampled['product_id'] = df['product_id'].astype('category')\n",
        "df_sampled['rating'] = df_sampled['rating'].astype('float32')"
      ],
      "metadata": {
        "id": "W49OgH1HMwMu"
      },
      "execution_count": null,
      "outputs": []
    },
    {
      "cell_type": "markdown",
      "source": [
        "Now we start to get into the fun part... \\\\\n",
        "I am going to create a sparse matrix for the training data, which is efficient in terms of memory for storing and processing large datasets. \\\\\n",
        "Although it is true that we only have about 17K data points in the training dataset, I think this may still be good practice when working with larger datasets. \\\\\n",
        "A sparse matrix is simply a matrix in which most of the elements are zeros. What I am going to do is simply store the non-zero elements and their indices, which saves a good amount of memory. \\\\\n",
        "It is also good for performing matrix operations, as we just skip the zero entries."
      ],
      "metadata": {
        "id": "BqLXw6LDYshJ"
      }
    },
    {
      "cell_type": "code",
      "source": [
        "from sklearn.model_selection import train_test_split\n",
        "from scipy.sparse import csr_matrix\n",
        "\n",
        "train_data, test_data = train_test_split(df_sampled, test_size=0.2, random_state=42)\n",
        "\n",
        "train_interaction_matrix = train_data.pivot(index='user_id', columns='product_id', values='rating').fillna(0)\n",
        "\n",
        "sparse_train_matrix = csr_matrix(train_interaction_matrix.values)"
      ],
      "metadata": {
        "id": "2Qr0eGrTM3Cu"
      },
      "execution_count": null,
      "outputs": []
    },
    {
      "cell_type": "markdown",
      "source": [
        "Here is the part that is most confusing to myself....\\\\\n",
        "I am going to use Truncated SVD to reduce dimensionality and extract the most important features. \\\\\n",
        "By reducing the matrix to its most significant components, we can capture the most important patterns in the data while getting rid of less important information. \\\\\n",
        "In a recommender system truncated SVD can provide better predictions while aiding generalizations and avoiding overfitting."
      ],
      "metadata": {
        "id": "6jF4O7Ypcqaf"
      }
    },
    {
      "cell_type": "code",
      "source": [
        "from scipy.sparse.linalg import svds\n",
        "import numpy as np\n",
        "\n",
        "U, sigma, Vt = svds(sparse_train_matrix, k=10)\n",
        "sigma = np.diag(sigma)\n",
        "\n",
        "predicted_ratings_train_matrix = np.dot(np.dot(U, sigma), Vt)\n",
        "predicted_ratings_train_df = pd.DataFrame(predicted_ratings_train_matrix, columns=train_interaction_matrix.columns, index=train_interaction_matrix.index)"
      ],
      "metadata": {
        "id": "WYcrLbB5Nd4P"
      },
      "execution_count": null,
      "outputs": []
    },
    {
      "cell_type": "markdown",
      "source": [
        "Lastly, in the last few cells of this recommender system, I am going to check the Root Mean Squared Error to check the performance of the model. \\\\\n",
        "I also iterated over the different values of k to check which is the best for performance. \\\\\n",
        "I also want to ensure robustness by performing cross validation."
      ],
      "metadata": {
        "id": "orK5rKSsdy_s"
      }
    },
    {
      "cell_type": "code",
      "source": [
        "from sklearn.metrics import mean_squared_error\n",
        "from math import sqrt\n",
        "\n",
        "train_actual_ratings = train_data.pivot(index='user_id', columns='product_id', values='rating')\n",
        "predicted_ratings = predicted_ratings_train_df.values[train_actual_ratings.notna()]\n",
        "\n",
        "train_rmse = sqrt(mean_squared_error(train_actual_ratings.values[train_actual_ratings.notna()], predicted_ratings))\n",
        "print(f'Training RMSE: {train_rmse}')"
      ],
      "metadata": {
        "colab": {
          "base_uri": "https://localhost:8080/"
        },
        "id": "Ap0CjKnMQWRq",
        "outputId": "ce645bac-08fe-42cd-8891-6dadcbb76546"
      },
      "execution_count": null,
      "outputs": [
        {
          "output_type": "stream",
          "name": "stdout",
          "text": [
            "Training RMSE: 4.241323702773579\n"
          ]
        }
      ]
    },
    {
      "cell_type": "code",
      "source": [
        "# Ensure the predicted ratings DataFrame is reindexed to match the test interaction matrix\n",
        "test_predicted_ratings_df = test_predicted_ratings_df.reindex(index=test_interaction_matrix.index, columns=test_interaction_matrix.columns).fillna(0)\n",
        "\n",
        "# Extract predicted and actual ratings only where they are available in the test set\n",
        "test_predicted_ratings = test_predicted_ratings_df.values[test_interaction_matrix.notna()]\n",
        "test_actual_ratings = test_interaction_matrix.values[test_interaction_matrix.notna()]\n",
        "\n",
        "# Calculate RMSE for the test set\n",
        "from sklearn.metrics import mean_squared_error\n",
        "from math import sqrt\n",
        "\n",
        "test_rmse = sqrt(mean_squared_error(test_actual_ratings, test_predicted_ratings))\n",
        "print(f'Test RMSE: {test_rmse}')\n"
      ],
      "metadata": {
        "colab": {
          "base_uri": "https://localhost:8080/"
        },
        "id": "Ruw6FenXRBdh",
        "outputId": "bf623903-8984-4b2e-ec44-2376382d2066"
      },
      "execution_count": null,
      "outputs": [
        {
          "output_type": "stream",
          "name": "stdout",
          "text": [
            "Test RMSE: 0.0730544417842926\n"
          ]
        }
      ]
    },
    {
      "cell_type": "code",
      "source": [
        "k_values = [10, 20, 30, 40, 50, 60, 70, 80, 90, 100]\n",
        "for k in k_values:\n",
        "    U, sigma, Vt = svds(sparse_train_matrix, k=k)\n",
        "    sigma = np.diag(sigma)\n",
        "    predicted_ratings_train_matrix = np.dot(np.dot(U, sigma), Vt)\n",
        "    predicted_ratings_train_df = pd.DataFrame(predicted_ratings_train_matrix, columns=train_interaction_matrix.columns, index=train_interaction_matrix.index)\n",
        "\n",
        "    predicted_ratings_train = predicted_ratings_train_df.values[train_interaction_matrix.notna()]\n",
        "    train_rmse = sqrt(mean_squared_error(train_interaction_matrix.values[train_interaction_matrix.notna()], predicted_ratings_train))\n",
        "    print(f'k={k}, Training RMSE: {train_rmse}')\n",
        "\n",
        "    test_predicted_ratings_df = predicted_ratings_train_df.reindex(index=test_interaction_matrix.index, columns=test_interaction_matrix.columns).fillna(0)\n",
        "    test_predicted_ratings = test_predicted_ratings_df.values[test_interaction_matrix.notna()]\n",
        "    test_rmse = sqrt(mean_squared_error(test_interaction_matrix.values[test_interaction_matrix.notna()], test_predicted_ratings))\n",
        "    print(f'k={k}, Test RMSE: {test_rmse}')\n"
      ],
      "metadata": {
        "colab": {
          "base_uri": "https://localhost:8080/"
        },
        "id": "bv8QRRl6TC3u",
        "outputId": "a9e7062d-2e62-4c38-9dac-7bfcf41ad439"
      },
      "execution_count": null,
      "outputs": [
        {
          "output_type": "stream",
          "name": "stdout",
          "text": [
            "k=10, Training RMSE: 0.040826054276471874\n",
            "k=10, Test RMSE: 0.07292480047307036\n",
            "k=20, Training RMSE: 0.04056975719090962\n",
            "k=20, Test RMSE: 0.07296191313161031\n",
            "k=30, Training RMSE: 0.040371866620199696\n",
            "k=30, Test RMSE: 0.07297314822054247\n",
            "k=40, Training RMSE: 0.040205532390612385\n",
            "k=40, Test RMSE: 0.07302565993300913\n",
            "k=50, Training RMSE: 0.04006566495573171\n",
            "k=50, Test RMSE: 0.0730544417842926\n",
            "k=60, Training RMSE: 0.03993772703120798\n",
            "k=60, Test RMSE: 0.07307285443536923\n",
            "k=70, Training RMSE: 0.0398136940075101\n",
            "k=70, Test RMSE: 0.07313917226984641\n",
            "k=80, Training RMSE: 0.039696211173304366\n",
            "k=80, Test RMSE: 0.07316548145484424\n",
            "k=90, Training RMSE: 0.03958587061259218\n",
            "k=90, Test RMSE: 0.07318070692319747\n",
            "k=100, Training RMSE: 0.03947921152529604\n",
            "k=100, Test RMSE: 0.07319203248962101\n"
          ]
        }
      ]
    },
    {
      "cell_type": "code",
      "source": [
        "from sklearn.model_selection import KFold\n",
        "\n",
        "kf = KFold(n_splits=5, shuffle=True, random_state=42)\n",
        "train_rmse_list = []\n",
        "test_rmse_list = []\n",
        "\n",
        "for train_index, val_index in kf.split(df_sampled):\n",
        "    train_data = df_sampled.iloc[train_index]\n",
        "    val_data = df_sampled.iloc[val_index]\n",
        "\n",
        "    train_interaction_matrix = train_data.pivot(index='user_id', columns='product_id', values='rating').fillna(0)\n",
        "    val_interaction_matrix = val_data.pivot(index='user_id', columns='product_id', values='rating').fillna(0)\n",
        "\n",
        "    sparse_train_matrix = csr_matrix(train_interaction_matrix.values)\n",
        "\n",
        "    U, sigma, Vt = svds(sparse_train_matrix, k=50)\n",
        "    sigma = np.diag(sigma)\n",
        "\n",
        "    predicted_ratings_train_matrix = np.dot(np.dot(U, sigma), Vt)\n",
        "    predicted_ratings_train_df = pd.DataFrame(predicted_ratings_train_matrix, columns=train_interaction_matrix.columns, index=train_interaction_matrix.index)\n",
        "\n",
        "    predicted_ratings_train = predicted_ratings_train_df.values[train_interaction_matrix.notna()]\n",
        "    train_rmse = sqrt(mean_squared_error(train_interaction_matrix.values[train_interaction_matrix.notna()], predicted_ratings_train))\n",
        "    train_rmse_list.append(train_rmse)\n",
        "\n",
        "    val_predicted_ratings_df = predicted_ratings_train_df.reindex(index=val_interaction_matrix.index, columns=val_interaction_matrix.columns).fillna(0)\n",
        "    val_predicted_ratings = val_predicted_ratings_df.values[val_interaction_matrix.notna()]\n",
        "    val_rmse = sqrt(mean_squared_error(val_interaction_matrix.values[val_interaction_matrix.notna()], val_predicted_ratings))\n",
        "    test_rmse_list.append(val_rmse)\n",
        "\n",
        "print(f'Average Training RMSE: {np.mean(train_rmse_list)}')\n",
        "print(f'Average Validation RMSE: {np.mean(test_rmse_list)}')\n"
      ],
      "metadata": {
        "colab": {
          "base_uri": "https://localhost:8080/"
        },
        "id": "5Rj_DvM1Tb6P",
        "outputId": "569898f5-a5f9-4adf-eb7a-157fb63c4b81"
      },
      "execution_count": null,
      "outputs": [
        {
          "output_type": "stream",
          "name": "stdout",
          "text": [
            "Average Training RMSE: 0.04003342498475809\n",
            "Average Validation RMSE: 0.07316010442896775\n"
          ]
        }
      ]
    }
  ]
}