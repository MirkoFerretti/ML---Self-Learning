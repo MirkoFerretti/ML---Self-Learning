{
 "cells": [
  {
   "cell_type": "code",
   "execution_count": null,
   "id": "8c2f4b23",
   "metadata": {},
   "outputs": [],
   "source": [
    "import pandas as pd\n",
    "import numpy as np\n",
    "import matplotlib.pyplot as plt\n",
    "import seaborn as sns\n",
    "from catboost import CatBoostClassifier\n",
    "from sklearn.utils.class_weight import compute_class_weight\n",
    "from sklearn.metrics import accuracy_score, roc_auc_score\n",
    "from sklearn.model_selection import train_test_split, StratifiedKFold, GridSearchCV, cross_val_score\n",
    "from bayes_opt import BayesianOptimization\n",
    "from sklearn.model_selection import cross_val_score\n",
    "import optuna\n",
    "from hyperopt import fmin, tpe, hp\n",
    "from sklearn.linear_model import LogisticRegression\n",
    "import xgboost as xgb\n",
    "import category_encoders as ce\n",
    "import optuna\n",
    "from lightgbm import LGBMClassifier\n",
    "from optuna.samplers import TPESampler"
   ]
  },
  {
   "cell_type": "code",
   "execution_count": null,
   "id": "f82cc8f2",
   "metadata": {},
   "outputs": [],
   "source": [
    "file_path_train = r'C:\\Users\\mirko\\Desktop\\train.csv'\n",
    "file_path_test = r'C:\\Users\\mirko\\Desktop\\test.csv'\n",
    "train = pd.read_csv(file_path_train)\n",
    "test = pd.read_csv(file_path_test)"
   ]
  },
  {
   "cell_type": "code",
   "execution_count": null,
   "id": "7efaf450",
   "metadata": {},
   "outputs": [],
   "source": [
    "description = pd.DataFrame(index = list(train))\n",
    "description['type'] = train.dtypes\n",
    "description['count'] = train.count()\n",
    "description['nunique'] = train.nunique()\n",
    "description['null'] = train.isnull().sum()\n",
    "description['min'] = train.min()\n",
    "description['max'] = train.max()\n",
    "description"
   ]
  },
  {
   "cell_type": "code",
   "execution_count": null,
   "id": "83394a02",
   "metadata": {},
   "outputs": [],
   "source": [
    "# from sklearn.preprocessing import MinMaxScaler\n",
    "\n",
    "# to_be_min_max_scaled = ['Age', 'Height', 'Weight', 'FCVC', 'NCP', 'CH2O', 'FAF', 'TUE']\n",
    "\n",
    "# min_max_scaler = MinMaxScaler()\n",
    "# train[to_be_min_max_scaled] = min_max_scaler.fit_transform(train[to_be_min_max_scaled])\n",
    "# test[to_be_min_max_scaled] = min_max_scaler.transform(test[to_be_min_max_scaled])\n"
   ]
  },
  {
   "cell_type": "code",
   "execution_count": null,
   "id": "857a4f75",
   "metadata": {},
   "outputs": [],
   "source": [
    "categorical_columns = ['Gender', 'family_history_with_overweight', 'FAVC', 'CAEC', 'SMOKE', 'SCC', 'MTRANS', 'CALC']\n",
    "\n",
    "category_mapping = {'Frequently' : 'Frequently', 'Sometimes' : 'Sometimes', 'no' : 'no', 'Always' : 'Frequently'}\n",
    "\n",
    "train['CALC'] = train['CALC'].map(category_mapping).astype('category')\n",
    "test['CALC'] = test['CALC'].map(category_mapping).astype('category')"
   ]
  },
  {
   "cell_type": "code",
   "execution_count": null,
   "id": "b6091edf",
   "metadata": {},
   "outputs": [],
   "source": [
    "# train = pd.get_dummies(train, columns=categorical_columns)\n",
    "\n",
    "# test = pd.get_dummies(test, columns=categorical_columns)\n",
    "# train.head()"
   ]
  },
  {
   "cell_type": "code",
   "execution_count": null,
   "id": "1cb824e3",
   "metadata": {},
   "outputs": [],
   "source": [
    "train.dtypes"
   ]
  },
  {
   "cell_type": "code",
   "execution_count": null,
   "id": "c794e250",
   "metadata": {},
   "outputs": [],
   "source": [
    "# from sklearn.preprocessing import LabelEncoder\n",
    "\n",
    "# label_encoder = LabelEncoder()\n",
    "\n",
    "# train['NObeyesdad'] = label_encoder.fit_transform(train['NObeyesdad'])"
   ]
  },
  {
   "cell_type": "code",
   "execution_count": null,
   "id": "071df6fe",
   "metadata": {},
   "outputs": [],
   "source": [
    "X = train.drop(['id', 'NObeyesdad'], axis=1)\n",
    "y = train.pop('NObeyesdad')"
   ]
  },
  {
   "cell_type": "code",
   "execution_count": null,
   "id": "264beaf2",
   "metadata": {},
   "outputs": [],
   "source": [
    "classes = np.unique(y)\n",
    "\n",
    "weights = compute_class_weight('balanced', classes=classes, y=y)\n",
    "\n",
    "weights\n",
    "\n",
    "class_weights = {\n",
    "    0.0 : 1.17535813,\n",
    "    1.0 : 0.96217669,\n",
    "    2.0 : 1.01904762,\n",
    "    3.0 : 0.91300141,\n",
    "    4.0 : 0.73292847,\n",
    "    5.0 : 1.22184943,\n",
    "    6.0 : 1.17582418\n",
    "}"
   ]
  },
  {
   "cell_type": "code",
   "execution_count": null,
   "id": "fb14f3a3",
   "metadata": {},
   "outputs": [],
   "source": [
    "random_states_to_try = list(range(1, 1001))\n",
    "\n",
    "best_accuracy = 0.0\n",
    "best_random_state = 0.0\n",
    "\n",
    "\n",
    "\n",
    "for random_state in random_states_to_try:\n",
    "    X_train, X_val, y_train, y_val = train_test_split(X, y, test_size=0.2, random_state=random_state)\n",
    "    \n",
    "    for col in categorical_columns:\n",
    "        X_train[col] = X_train[col].astype('category')\n",
    "        X_val[col] = X_val[col].astype('category')\n",
    "    \n",
    "    lgb_params = {'objective' : 'multiclassova',\n",
    "                 'learning_rate': 0.017496510857138103,\n",
    "                  'n_estimators': 846,\n",
    "                  'reg_alpha': 0.9339063703383828,\n",
    "                  'reg_lambda': 0.23045254190652778,\n",
    "                  'max_depth': 10,\n",
    "                  'colsample_bytree': 0.6571224806269116,\n",
    "                  'subsample': 0.6204128913658613,\n",
    "                  'num_leaves': 33,\n",
    "                  'boosting_type': 'gbdt',\n",
    "                  'num_class': 7,\n",
    "                  'random_state': 42,\n",
    "                  'metric': 'multi_logloss',\n",
    "                  'class_weight': 'balanced'\n",
    "                 }\n",
    "    \n",
    "    lgb_model_final = LGBMClassifier(**lgb_params)\n",
    "    lgb_model_final.fit(X_train, y_train)\n",
    "    \n",
    "    accuracy = accuracy_score(y_val, lgb_model_final.predict(X_val))\n",
    "    \n",
    "    if accuracy > best_accuracy:\n",
    "        best_accuracy = accuracy\n",
    "        best_random_state = random_state\n",
    "    \n",
    "    print(f'Random State: {random_state}, Accuracy: {accuracy}')\n",
    "    \n",
    "print(f\"Best Accuracy: {best_accuracy} achieved with random state: {best_random_state}\")"
   ]
  },
  {
   "cell_type": "code",
   "execution_count": null,
   "id": "cdb9ceed",
   "metadata": {},
   "outputs": [],
   "source": [
    "X_train, X_val, y_train, y_val = train_test_split(X, y, test_size=0.2, random_state=283)\n",
    "\n",
    "for col in categorical_columns:\n",
    "        X_train[col] = X_train[col].astype('category')\n",
    "        X_val[col] = X_val[col].astype('category')"
   ]
  },
  {
   "cell_type": "markdown",
   "id": "fd4e9b3d",
   "metadata": {},
   "source": [
    "# LightGBM "
   ]
  },
  {
   "cell_type": "code",
   "execution_count": null,
   "id": "7694f3d0",
   "metadata": {},
   "outputs": [],
   "source": [
    "# def optimization_function_lgb(trial):\n",
    "    \n",
    "    \n",
    "    \n",
    "    \n",
    "    \n",
    "#     lgb_params= {\n",
    "#         'boosting_type' : 'gbdt',\n",
    "#         'num_class' : 7,\n",
    "#         'random_state' : 42,\n",
    "#         'metric' : 'multi_logloss',\n",
    "#         'class_weight' : 'balanced',\n",
    "#         'objective' : trial.suggest_categorical('objective', ['multiclass', 'multiclassova']),\n",
    "#         'learning_rate' : trial.suggest_float('learning_rate', 0.01, 0.05),\n",
    "#         'n_estimators' : trial.suggest_int('n_estimators', 400, 1000),\n",
    "#         'reg_alpha' : trial.suggest_loguniform('reg_alpha', 1e-3, 10.0),\n",
    "#         'reg_lambda' : trial.suggest_loguniform('reg_lambda', 1e-1, 10.0),\n",
    "#         'max_depth' : trial.suggest_int('max_depth', 5, 15),\n",
    "#         'colsample_bytree' : trial.suggest_float('colsample_bytree', 0.3, 0.9),\n",
    "#         'subsample' : trial.suggest_float('subsample', 0.5, 1.0),\n",
    "#         'num_leaves' : trial.suggest_int('num_leaves', 10, 50)\n",
    "#     }\n",
    "    \n",
    "#     lgb_model = LGBMClassifier(**lgb_params)\n",
    "    \n",
    "#     skf = StratifiedKFold(n_splits=5, shuffle=True, random_state=None)\n",
    "#     accuracy = cross_val_score(lgb_model, X_train, y_train, cv=skf, scoring='accuracy')\n",
    "#     print('='*50, '\\n Validation Accuracy: ', accuracy.mean())\n",
    "    \n",
    "#     lgb_model.fit(X_train, y_train)\n",
    "    \n",
    "#     acc = accuracy_score(y_val, lgb_model.predict(X_val))\n",
    "    \n",
    "#     return acc"
   ]
  },
  {
   "cell_type": "code",
   "execution_count": null,
   "id": "6b2ef23e",
   "metadata": {},
   "outputs": [],
   "source": [
    "# sampler = optuna.samplers.TPESampler(seed=42)\n",
    "\n",
    "# study = optuna.create_study(direction='maximize', sampler=sampler)\n",
    "\n",
    "# study.optimize(optimization_function_lgb, n_trials=50)\n",
    "\n",
    "# best_params = study.best_params\n",
    "\n",
    "# print('='*50)\n",
    "# print(best_params)\n",
    "\n",
    "# ran_optuna=True"
   ]
  },
  {
   "cell_type": "code",
   "execution_count": null,
   "id": "e59e5f57",
   "metadata": {},
   "outputs": [],
   "source": [
    "# lgb_params = study.best_trial.params\n",
    "\n",
    "# fixed_params_lgb = {\n",
    "#     'boosting_type' : 'gbdt',\n",
    "#     'num_class' : 7,\n",
    "#     'random_state' : 42,\n",
    "#     'metric' : 'multi_logloss',\n",
    "#     'class_weight' : 'balanced'\n",
    "# }\n",
    "\n",
    "# for i in fixed_params_lgb.keys():\n",
    "#     lgb_params[i] = fixed_params_lgb[i]\n",
    "    \n",
    "# lgb_params"
   ]
  },
  {
   "cell_type": "code",
   "execution_count": null,
   "id": "7bb8d616",
   "metadata": {},
   "outputs": [],
   "source": [
    "# lgb_params = {'objective': 'multiclass',\n",
    "#  'learning_rate': 0.021685785941408728,\n",
    "#  'n_estimators': 620,\n",
    "#  'reg_alpha': 0.06672367170464207,\n",
    "#  'reg_lambda': 3.7183641805732095,\n",
    "#  'max_depth': 7,\n",
    "#  'colsample_bytree': 0.608540663048167,\n",
    "#  'subsample': 0.7962072844310213,\n",
    "#  'num_leaves': 11,\n",
    "#  'boosting_type': 'gbdt',\n",
    "#  'num_class': 7,\n",
    "#  'random_state': 42,\n",
    "#  'metric': 'multi_logloss',\n",
    "#  'class_weight': 'balanced'}\n",
    "\n",
    "# lgb_model_final = LGBMClassifier(**lgb_params)\n",
    "\n",
    "# lgb_model_final.fit(X_train, y_train)\n",
    "\n",
    "# accuracy = accuracy_score(y_val, lgb_model_final.predict(X_val))\n",
    "# print(f'Accuracy: ', accuracy)"
   ]
  },
  {
   "cell_type": "code",
   "execution_count": null,
   "id": "0ce3695e",
   "metadata": {},
   "outputs": [],
   "source": [
    "lgb_params = {'objective': 'multiclassova',\n",
    " 'learning_rate': 0.017496510857138103,\n",
    " 'n_estimators': 846,\n",
    " 'reg_alpha': 0.9339063703383828,\n",
    " 'reg_lambda': 0.23045254190652778,\n",
    " 'max_depth': 10,\n",
    " 'colsample_bytree': 0.6571224806269116,\n",
    " 'subsample': 0.6204128913658613,\n",
    " 'num_leaves': 33,\n",
    " 'boosting_type': 'gbdt',\n",
    " 'num_class': 7,\n",
    " 'random_state': 42,\n",
    " 'metric': 'multi_logloss'}\n",
    "\n",
    "lgb_model_final = LGBMClassifier(**lgb_params)\n",
    "\n",
    "lgb_model_final.fit(X_train, y_train)\n",
    "\n",
    "accuracy = accuracy_score(y_val, lgb_model_final.predict(X_val))\n",
    "print(f'Accuracy: ', accuracy)"
   ]
  },
  {
   "cell_type": "code",
   "execution_count": null,
   "id": "c060f33f",
   "metadata": {},
   "outputs": [],
   "source": [
    "test_noid = test.drop('id', axis=1)\n",
    "\n",
    "for col in categorical_columns:\n",
    "    test_noid[col] = test_noid[col].astype('category')\n",
    "\n",
    "predictions = lgb_model_final.predict(test_noid)\n",
    "predictions_labels = label_encoder.inverse_transform(predictions)"
   ]
  },
  {
   "cell_type": "code",
   "execution_count": null,
   "id": "4c1f1f57",
   "metadata": {},
   "outputs": [],
   "source": [
    "submission = pd.DataFrame({\n",
    "    'id' : test.id,\n",
    "    'NObeyesdad' : predictions_labels\n",
    "})\n",
    "\n",
    "submission.to_csv('submission.csv', index=False)\n",
    "\n",
    "submission.head()"
   ]
  },
  {
   "cell_type": "code",
   "execution_count": null,
   "id": "d27b61ce",
   "metadata": {},
   "outputs": [],
   "source": [
    "download_link = f'<a href=\"submission.csv\" download> Click here to download the submission file</a>'\n",
    "from IPython.display import HTML\n",
    "HTML(download_link)"
   ]
  },
  {
   "cell_type": "code",
   "execution_count": null,
   "id": "ee3ba133",
   "metadata": {},
   "outputs": [],
   "source": []
  }
 ],
 "metadata": {
  "kernelspec": {
   "display_name": "Python 3 (ipykernel)",
   "language": "python",
   "name": "python3"
  },
  "language_info": {
   "codemirror_mode": {
    "name": "ipython",
    "version": 3
   },
   "file_extension": ".py",
   "mimetype": "text/x-python",
   "name": "python",
   "nbconvert_exporter": "python",
   "pygments_lexer": "ipython3",
   "version": "3.11.5"
  }
 },
 "nbformat": 4,
 "nbformat_minor": 5
}
